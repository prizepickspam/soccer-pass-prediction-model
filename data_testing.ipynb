{
 "cells": [
  {
   "cell_type": "code",
   "execution_count": null,
   "id": "c47f1233",
   "metadata": {},
   "outputs": [],
   "source": [
    "import subprocess\n",
    "import json\n",
    "import pandas as pd\n",
    "import os\n",
    "\n",
    "offered_feeds = pd.read_csv('statsperform_feeds.csv')\n",
    "\n",
    "{\n",
    "    k:v for k, v in zip(offered_feeds.FeedCode, offered_feeds.FeedWidgetName)\n",
    "}"
   ]
  },
  {
   "cell_type": "code",
   "execution_count": null,
   "id": "19de6027",
   "metadata": {},
   "outputs": [],
   "source": [
    "def _access_statsperform_api(feed_name: str,\n",
    "                             tourney_cal_id: str = None,\n",
    "                             match_id: str = None\n",
    "                             ):\n",
    "\n",
    "    proxy_url = \"http://127.0.0.1:3128\"\n",
    "    statsperform_base_url = 'https://api.performfeeds.com/soccerdata'\n",
    "    auth_key = str(os.environ['STATSPERFORM_API_KEY'])\n",
    "\n",
    "    master_dict = {\n",
    "        '_rt':'b',\n",
    "        '_fmt':'json'\n",
    "    }\n",
    "\n",
    "    if feed_name == 'match':\n",
    "        assert tourney_cal_id is not None, \"To access match feed data, a tournament calendar ID must be passed in.\"\n",
    "        master_dict['tmcl'] = tourney_cal_id\n",
    "        master_dict['_pgSz'] = 1000\n",
    "    if feed_name == 'matchstats':\n",
    "        assert match_id is not None, \"To access match stats feed, a match ID must be passed in.\"\n",
    "        master_dict['fx'] = match_id\n",
    "        master_dict['detailed'] = 'yes'\n",
    "        master_dict['people'] = 'yes'\n",
    "\n",
    "    query_string = '&'.join([f'{k}={v}' for k, v in master_dict.items()])\n",
    "\n",
    "    q_command = f\"\"\" curl -x \"{proxy_url}\" '{statsperform_base_url}/{feed_name}/{auth_key}/authorized?&{query_string}' \"\"\" if feed_name == 'tournamentcalendar' else \\\n",
    "        f\"\"\" curl -x \"{proxy_url}\" '{statsperform_base_url}/{feed_name}/{auth_key}?&{query_string}' \"\"\"\n",
    "\n",
    "    print(q_command)\n",
    "\n",
    "    process = subprocess.run(\n",
    "                q_command,\n",
    "                shell=True,\n",
    "                capture_output=True,\n",
    "                check=False # Set to True if you want a CalledProcessError for non-zero exit codes\n",
    "            )\n",
    "\n",
    "    stdout = process.stdout\n",
    "    json_output = json.loads(stdout)\n",
    "    return json_output\n"
   ]
  },
  {
   "cell_type": "markdown",
   "id": "2ba30d6b",
   "metadata": {},
   "source": [
    "## tournaments"
   ]
  },
  {
   "cell_type": "code",
   "execution_count": null,
   "id": "2049e914",
   "metadata": {},
   "outputs": [
    {
     "data": {
      "text/plain": [
       "'9n12waklv005j8r32sfjj2eqc'"
      ]
     },
     "execution_count": 19,
     "metadata": {},
     "output_type": "execute_result"
    }
   ],
   "source": [
    "# Get all available tournament calendar IDs with OT2 feed\n",
    "feed = 'tournamentcalendar'\n",
    "comps = _access_statsperform_api(feed)\n",
    "competitions = pd.DataFrame(comps['competition'])\n",
    "\n",
    "# competition id for the premier league\n",
    "comp_id = \"2kwbbcootiqqgmrzs6o5inle5\"\n",
    "prem_calendars = pd.DataFrame(competitions[competitions['id'] == comp_id].tournamentCalendar.iloc[0])\n",
    "\n",
    "# tournament calendar id for the 24/25 premier league season\n",
    "tourney_cal_id = prem_calendars.id.iloc[1]"
   ]
  },
  {
   "cell_type": "markdown",
   "id": "296971d8",
   "metadata": {},
   "source": [
    "## matches"
   ]
  },
  {
   "cell_type": "code",
   "execution_count": 22,
   "id": "254af8aa",
   "metadata": {},
   "outputs": [],
   "source": [
    "# Get all matches with MA1 feed\n",
    "def _get_all_matches_in_tourneycal(tourney_cal_id: str):\n",
    "\n",
    "    all_matches = _access_statsperform_api(feed_name='match',\n",
    "                         tourney_cal_id=tourney_cal_id)\n",
    "\n",
    "    return pd.DataFrame([x['matchInfo'] for x in all_matches['match']])"
   ]
  },
  {
   "cell_type": "markdown",
   "id": "a0cf3f14",
   "metadata": {},
   "source": [
    "## process data"
   ]
  },
  {
   "cell_type": "code",
   "execution_count": 23,
   "id": "4caba185",
   "metadata": {},
   "outputs": [
    {
     "name": "stdout",
     "output_type": "stream",
     "text": [
      " curl -x \"http://127.0.0.1:3128\" 'https://api.performfeeds.com/soccerdata/match/129uejzewjzrp1vawjeh8sp1xb?&_rt=b&_fmt=json&tmcl=9n12waklv005j8r32sfjj2eqc&_pgSz=1000' \n"
     ]
    }
   ],
   "source": [
    "matches = _get_all_matches_in_tourneycal(tourney_cal_id)\n",
    "\n",
    "match_id = matches.id.iloc[200]"
   ]
  },
  {
   "cell_type": "code",
   "execution_count": null,
   "id": "6646ebce",
   "metadata": {},
   "outputs": [
    {
     "name": "stdout",
     "output_type": "stream",
     "text": [
      " curl -x \"http://127.0.0.1:3128\" 'https://api.performfeeds.com/soccerdata/matchstats/129uejzewjzrp1vawjeh8sp1xb?&_rt=b&_fmt=json&fx=c0wexnzzmhoesdc4ja022av4k&detailed=yes&people=yes' \n"
     ]
    }
   ],
   "source": [
    "# getting access to player data using MA2 feed\n",
    "example_match_request = _access_statsperform_api(feed_name='matchstats',\n",
    "                         match_id=match_id)"
   ]
  },
  {
   "cell_type": "code",
   "execution_count": null,
   "id": "28a75fec",
   "metadata": {},
   "outputs": [],
   "source": [
    "pd.set_option('display.max_rows', 1000)\n",
    "pd.set_option('display.max_columns', 1000)\n",
    "\n",
    "def _aggregate_team_data(match_stats):\n",
    "\n",
    "    tourney_cal_id, tourney_cal_season = example_match_request['matchInfo']['tournamentCalendar']['id'], \\\n",
    "        example_match_request['matchInfo']['tournamentCalendar']['name']\n",
    "    competition_id, competition_name = example_match_request['matchInfo']['competition']['id'], \\\n",
    "        example_match_request['matchInfo']['competition']['name']\n",
    "    competitors = example_match_request['matchInfo']['contestant']\n",
    "    \n",
    "    match_data = pd.DataFrame(example_match_request['liveData']['lineUp'])\n",
    "\n",
    "    match_list = []\n",
    "\n",
    "    for _, team in match_data.iterrows():\n",
    "        team_stats = pd.DataFrame(team.stat)\n",
    "        team_stats['value'] = pd.to_numeric(team_stats.value)\n",
    "        competitor = competitors[0] if competitors[0]['id'] == team.contestantId else competitors[1]\n",
    "\n",
    "        ts = team_stats[['type', 'value']].set_index('type').T\n",
    "\n",
    "        cs = pd.DataFrame({\n",
    "            'competition_id': [competition_id],\n",
    "            'competition_name': [competition_name],\n",
    "            'tourney_cal_id': [tourney_cal_id],\n",
    "            'tourney_cal_name': [tourney_cal_season],\n",
    "            'match_id' : [str(match_id)],\n",
    "            'match_date': match_stats['matchInfo']['date'],\n",
    "            'contestantId' : [str(competitor['id'])],\n",
    "            'team_name': [str(competitor['shortName'])],\n",
    "            'home' : True if competitor['position'] == 'home' else False,\n",
    "        })\n",
    "\n",
    "        team_row = pd.concat([cs.reset_index(drop=True), ts.reset_index(drop=True)], axis=1)\n",
    "        team_row['formationUsed'] = str(team.formationUsed)\n",
    "\n",
    "        match_list.append(team_row)\n",
    "\n",
    "    return pd.concat(match_list).fillna(0)"
   ]
  },
  {
   "cell_type": "code",
   "execution_count": 202,
   "id": "8027c50e",
   "metadata": {},
   "outputs": [],
   "source": [
    "# def _aggregate_player_data(match_request):\n",
    "match_data = pd.DataFrame(example_match_request['liveData']['lineUp'])\n",
    "\n",
    "for _, team in match_data.iterrows():\n",
    "    players = team['player']\n",
    "    \n",
    "    cols_to_keep = ['playerId', 'matchName', 'position', 'positionSide', 'formationPlace', 'subPosition', 'stat']\n",
    "\n",
    "    players = pd.DataFrame(players)[cols_to_keep]\n",
    "\n",
    "    # players['position'] = players['position'].fillna(players['subPosition'])\n",
    "\n",
    "# return pd.DataFrame(team)"
   ]
  },
  {
   "cell_type": "code",
   "execution_count": 230,
   "id": "66e54519",
   "metadata": {},
   "outputs": [
    {
     "data": {
      "text/plain": [
       "[{'type': 'offsideProvoked', 'value': '1'},\n",
       " {'type': 'accurateFwdZonePass', 'value': '6'},\n",
       " {'type': 'accuratePass', 'value': '16'},\n",
       " {'type': 'totalThrows', 'value': '2'},\n",
       " {'type': 'successfulFinalThirdPasses', 'value': '1'},\n",
       " {'type': 'backwardPass', 'value': '3'},\n",
       " {'type': 'leftsidePass', 'value': '5'},\n",
       " {'type': 'totalPass', 'value': '16'},\n",
       " {'type': 'successfulOpenPlayPass', 'value': '15'},\n",
       " {'type': 'fwdPass', 'value': '7'},\n",
       " {'type': 'attemptsConcededIbox', 'value': '3'},\n",
       " {'type': 'accurateBackZonePass', 'value': '10'},\n",
       " {'type': 'accurateLongBalls', 'value': '1'},\n",
       " {'type': 'touches', 'value': '18'},\n",
       " {'type': 'longPassOwnToOppSuccess', 'value': '3'},\n",
       " {'type': 'passesRight', 'value': '2'},\n",
       " {'type': 'accurateThrows', 'value': '2'},\n",
       " {'type': 'minsPlayed', 'value': '20'},\n",
       " {'type': 'openPlayPass', 'value': '15'},\n",
       " {'type': 'longPassOwnToOpp', 'value': '3'},\n",
       " {'type': 'totalBackZonePass', 'value': '10'},\n",
       " {'type': 'totalSubOn', 'value': '1'},\n",
       " {'type': 'totalFwdZonePass', 'value': '6'},\n",
       " {'type': 'totalLongBalls', 'value': '1'},\n",
       " {'type': 'rightsidePass', 'value': '1'},\n",
       " {'type': 'totalFinalThirdPasses', 'value': '1'},\n",
       " {'type': 'winningGoal', 'value': '0'},\n",
       " {'type': 'timesTackled', 'value': '0'},\n",
       " {'type': 'formationPlace', 'value': '0'}]"
      ]
     },
     "execution_count": 230,
     "metadata": {},
     "output_type": "execute_result"
    }
   ],
   "source": [
    "subs = players[players['position'] == 'Substitute']\n",
    "subs.stat.iloc[-1]"
   ]
  },
  {
   "cell_type": "code",
   "execution_count": 233,
   "id": "72377e75",
   "metadata": {},
   "outputs": [
    {
     "data": {
      "text/plain": [
       "[{'contestantId': 'a3nyxabgsqlnqfkeg41m6tnpp',\n",
       "  'periodId': 2,\n",
       "  'timeMin': 66,\n",
       "  'timeMinSec': '65:13',\n",
       "  'lastUpdated': '2024-12-29T15:52:39Z',\n",
       "  'timestamp': '2024-12-29T15:52:25Z',\n",
       "  'playerOnId': '6zjzpbshmem98ecmuc852di0a',\n",
       "  'playerOnName': 'J. McAtee',\n",
       "  'playerOffId': '693z0rzfh3m0h0wsma9v8c9ux',\n",
       "  'playerOffName': 'P. Foden',\n",
       "  'subReason': 'Tactical'},\n",
       " {'contestantId': 'avxknfz4f6ob0rv9dbnxdzde0',\n",
       "  'periodId': 2,\n",
       "  'timeMin': 70,\n",
       "  'timeMinSec': '69:10',\n",
       "  'lastUpdated': '2024-12-29T15:56:35Z',\n",
       "  'timestamp': '2024-12-29T15:56:21Z',\n",
       "  'playerOnId': 'c2kzyykn8bwtswj6lacvrj3s9',\n",
       "  'playerOnName': 'H. Choudhury',\n",
       "  'playerOffId': '6icypdqtfk2k81ax0i49j5xpl',\n",
       "  'playerOffName': 'J. Justin',\n",
       "  'subReason': 'Tactical'},\n",
       " {'contestantId': 'a3nyxabgsqlnqfkeg41m6tnpp',\n",
       "  'periodId': 2,\n",
       "  'timeMin': 70,\n",
       "  'timeMinSec': '69:21',\n",
       "  'lastUpdated': '2024-12-29T15:56:39Z',\n",
       "  'timestamp': '2024-12-29T15:56:32Z',\n",
       "  'playerOnId': 'e9wu8dcamrtj3ftbx3nmhusid',\n",
       "  'playerOnName': 'K. Walker',\n",
       "  'playerOffId': '7jn9kl5wq29d41ekc2fz2rs2d',\n",
       "  'playerOffName': 'N. Aké',\n",
       "  'subReason': 'Tactical'},\n",
       " {'contestantId': 'avxknfz4f6ob0rv9dbnxdzde0',\n",
       "  'periodId': 2,\n",
       "  'timeMin': 85,\n",
       "  'timeMinSec': '84:46',\n",
       "  'lastUpdated': '2024-12-29T16:12:06Z',\n",
       "  'timestamp': '2024-12-29T16:11:57Z',\n",
       "  'playerOnId': 'otz9c2ifww514ummo10nfoix',\n",
       "  'playerOnName': 'P. Daka',\n",
       "  'playerOffId': '5qfa3h4gut5jlnfkexq5m1djp',\n",
       "  'playerOffName': 'H. Winks',\n",
       "  'subReason': 'Tactical'},\n",
       " {'contestantId': 'avxknfz4f6ob0rv9dbnxdzde0',\n",
       "  'periodId': 2,\n",
       "  'timeMin': 85,\n",
       "  'timeMinSec': '84:52',\n",
       "  'lastUpdated': '2024-12-29T16:12:15Z',\n",
       "  'timestamp': '2024-12-29T16:12:03Z',\n",
       "  'playerOnId': 'e5nv028chtw0955vhnh74ukbu',\n",
       "  'playerOnName': 'C. Okoli',\n",
       "  'playerOffId': 'ed4w2l6hglrrxu2a75bn0tt5h',\n",
       "  'playerOffName': 'C. Coady',\n",
       "  'subReason': 'Tactical'},\n",
       " {'contestantId': 'avxknfz4f6ob0rv9dbnxdzde0',\n",
       "  'periodId': 2,\n",
       "  'timeMin': 90,\n",
       "  'timeMinSec': '89:46',\n",
       "  'lastUpdated': '2024-12-29T16:17:10Z',\n",
       "  'timestamp': '2024-12-29T16:16:58Z',\n",
       "  'playerOnId': 'aph3ljk4p4df74mzmdg2bvcwk',\n",
       "  'playerOnName': 'W. Alves',\n",
       "  'playerOffId': '71bl8lyjtmzn8ebwulcjnmu39',\n",
       "  'playerOffName': 'S. Mavididi',\n",
       "  'subReason': 'Tactical'}]"
      ]
     },
     "execution_count": 233,
     "metadata": {},
     "output_type": "execute_result"
    }
   ],
   "source": [
    "example_match_request['liveData']['substitute']"
   ]
  },
  {
   "cell_type": "code",
   "execution_count": null,
   "id": "c6021336",
   "metadata": {},
   "outputs": [],
   "source": []
  }
 ],
 "metadata": {
  "kernelspec": {
   "display_name": "Python 3",
   "language": "python",
   "name": "python3"
  },
  "language_info": {
   "codemirror_mode": {
    "name": "ipython",
    "version": 3
   },
   "file_extension": ".py",
   "mimetype": "text/x-python",
   "name": "python",
   "nbconvert_exporter": "python",
   "pygments_lexer": "ipython3",
   "version": "3.9.6"
  }
 },
 "nbformat": 4,
 "nbformat_minor": 5
}

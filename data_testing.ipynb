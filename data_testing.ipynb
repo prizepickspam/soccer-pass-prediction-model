{
 "cells": [
  {
   "cell_type": "code",
   "execution_count": null,
   "id": "c47f1233",
   "metadata": {},
   "outputs": [],
   "source": [
    "import subprocess\n",
    "import json\n",
    "import pandas as pd\n",
    "\n",
    "offered_feeds = pd.read_csv('statsperform_feeds.csv')\n",
    "\n",
    "{\n",
    "    k:v for k, v in zip(offered_feeds.FeedCode, offered_feeds.FeedWidgetName)\n",
    "}"
   ]
  },
  {
   "cell_type": "code",
   "execution_count": null,
   "id": "19de6027",
   "metadata": {},
   "outputs": [],
   "source": [
    "def _access_statsperform_api(feed_name,\n",
    "                             query_paramo: dict = {\n",
    "                                 '_rt':'b',\n",
    "                                 '_fmt':'json',\n",
    "                             }):\n",
    "\n",
    "    proxy_url = \"http://127.0.0.1:3128\"\n",
    "    statsperform_base_url = 'https://api.performfeeds.com/soccerdata'\n",
    "    auth_key = ''\n",
    "\n",
    "    query_string = '&'.join([f'{k}={v}' for k, v in query_paramo.items()])\n",
    "\n",
    "    print(feed_name)\n",
    "    if feed_name == 'tournamentcalendar':\n",
    "        q_command = f\"\"\" curl -x \"{proxy_url}\" '{statsperform_base_url}/{feed_name}/{auth_key}/authorized?&{query_string}' \"\"\"\n",
    "    else:\n",
    "        q_command = f\"\"\" curl -x \"{proxy_url}\" '{statsperform_base_url}/{feed_name}/{auth_key}?&{query_string}' \"\"\"\n",
    "\n",
    "    print(q_command)\n",
    "\n",
    "    process = subprocess.run(\n",
    "                q_command,\n",
    "                shell=True,\n",
    "                capture_output=True,\n",
    "                check=False # Set to True if you want a CalledProcessError for non-zero exit codes\n",
    "            )\n",
    "\n",
    "    stdout = process.stdout\n",
    "    json_output = json.loads(stdout)\n",
    "    return json_output\n"
   ]
  },
  {
   "cell_type": "markdown",
   "id": "2ba30d6b",
   "metadata": {},
   "source": [
    "## tournaments"
   ]
  },
  {
   "cell_type": "code",
   "execution_count": null,
   "id": "2049e914",
   "metadata": {},
   "outputs": [],
   "source": [
    "# Get all available tournament calendar IDs with OT2 feed\n",
    "feed = 'tournamentcalendar'\n",
    "comps = _access_statsperform_api(feed)\n",
    "competitions = pd.DataFrame(comps['competition'])\n",
    "pd.DataFrame(competitions.iloc[15:20].tournamentCalendar.iloc[0])"
   ]
  },
  {
   "cell_type": "code",
   "execution_count": null,
   "id": "19851163",
   "metadata": {},
   "outputs": [],
   "source": [
    "comp_names_ids = pd.DataFrame(competitions.tournamentCalendar.explode().apply(lambda x: {'name':x['name'],\n",
    "                                                           'id':x['id']}).tolist())\n",
    "\n",
    "\n",
    "competitions = competitions.explode('tournamentCalendar')\n",
    "competitions[['competition_name', 'competition_id']] = comp_names_ids\n",
    "\n"
   ]
  },
  {
   "cell_type": "code",
   "execution_count": null,
   "id": "b8abb88c",
   "metadata": {},
   "outputs": [],
   "source": [
    "competitions.name.unique()"
   ]
  },
  {
   "cell_type": "markdown",
   "id": "296971d8",
   "metadata": {},
   "source": [
    "## matches"
   ]
  },
  {
   "cell_type": "code",
   "execution_count": null,
   "id": "254af8aa",
   "metadata": {},
   "outputs": [],
   "source": [
    "# Get all matches with MA1 feed\n",
    "\n",
    "french_matches = _access_statsperform_api(feed_name='match',\n",
    "                         query_paramo={'_rt':'b',\n",
    "                          '_fmt':'json',\n",
    "                          'tmcl':'a7htj8rtzib7a2xx7b3xs04d0',\n",
    "                          '_pgSz':1000})\n",
    "\n",
    "all_matches = pd.DataFrame([x['matchInfo'] for x in french_matches['match']])\n",
    "all_matches"
   ]
  },
  {
   "cell_type": "code",
   "execution_count": null,
   "id": "6646ebce",
   "metadata": {},
   "outputs": [],
   "source": [
    "# getting access to player data using MA2 feed\n",
    "\n",
    "example_match = '7rd4o9m0otkg7u58cqplq19uc'\n",
    "\n",
    "example_match_request = _access_statsperform_api(feed_name='matchstats',\n",
    "                         query_paramo={'_rt':'b',\n",
    "                          '_fmt':'json',\n",
    "                          'fx': example_match,\n",
    "                          # '_pgSz':1000,\n",
    "                          'detailed':'yes',\n",
    "                          'people':'yes'})\n",
    "\n",
    "match_data = pd.DataFrame(example_match_request['liveData']['lineUp'])\n",
    "\n",
    "dembele = pd.DataFrame(match_data.iloc[1].player).iloc[13]\n",
    "\n",
    "pd.Series({x['type']:x['value'] for x in dembele.stat})"
   ]
  },
  {
   "cell_type": "code",
   "execution_count": null,
   "id": "7c68c6a7",
   "metadata": {},
   "outputs": [],
   "source": [
    "example_match_request = _access_statsperform_api(feed_name='rankings',\n",
    "                         query_paramo={'_rt':'b',\n",
    "                          '_fmt':'json',\n",
    "                          'tmcl':'a7htj8rtzib7a2xx7b3xs04d0'})\n",
    "\n",
    "team_stats = pd.DataFrame(example_match_request['team'])\n",
    "\n",
    "rabiot = pd.DataFrame(team_stats.iloc[3]['player']).iloc[2]\n",
    "\n",
    "pd.Series({x['type']:x['value'] for x in rabiot.stat})"
   ]
  }
 ],
 "metadata": {
  "kernelspec": {
   "display_name": "Python 3",
   "language": "python",
   "name": "python3"
  },
  "language_info": {
   "codemirror_mode": {
    "name": "ipython",
    "version": 3
   },
   "file_extension": ".py",
   "mimetype": "text/x-python",
   "name": "python",
   "nbconvert_exporter": "python",
   "pygments_lexer": "ipython3",
   "version": "3.9.6"
  }
 },
 "nbformat": 4,
 "nbformat_minor": 5
}

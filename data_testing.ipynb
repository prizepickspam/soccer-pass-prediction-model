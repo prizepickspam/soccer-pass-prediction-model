{
 "cells": [
  {
   "cell_type": "code",
   "execution_count": null,
   "id": "c47f1233",
   "metadata": {},
   "outputs": [],
   "source": [
    "import subprocess\n",
    "import json\n",
    "import pandas as pd\n",
    "import os\n",
    "\n",
    "offered_feeds = pd.read_csv('statsperform_feeds.csv')\n",
    "\n",
    "{\n",
    "    k:v for k, v in zip(offered_feeds.FeedCode, offered_feeds.FeedWidgetName)\n",
    "}"
   ]
  },
  {
   "cell_type": "code",
   "execution_count": null,
   "id": "19de6027",
   "metadata": {},
   "outputs": [],
   "source": [
    "def _access_statsperform_api(feed_name: str,\n",
    "                             tourney_cal_id: str = None,\n",
    "                             match_id: str = None\n",
    "                             ):\n",
    "\n",
    "    proxy_url = \"http://127.0.0.1:3128\"\n",
    "    statsperform_base_url = 'https://api.performfeeds.com/soccerdata'\n",
    "    auth_key = str(os.environ['STATSPERFORM_API_KEY'])\n",
    "\n",
    "    master_dict = {\n",
    "        '_rt':'b',\n",
    "        '_fmt':'json'\n",
    "    }\n",
    "\n",
    "    if feed_name == 'match':\n",
    "        assert tourney_cal_id is not None, \"To access match feed data, a tournament calendar ID must be passed in.\"\n",
    "        master_dict['tmcl'] = tourney_cal_id\n",
    "        master_dict['_pgSz'] = 1000\n",
    "    if feed_name == 'matchstats':\n",
    "        assert match_id is not None, \"To access match stats feed, a match ID must be passed in.\"\n",
    "        master_dict['fx'] = match_id\n",
    "        master_dict['detailed'] = 'yes'\n",
    "        master_dict['people'] = 'yes'\n",
    "\n",
    "    query_string = '&'.join([f'{k}={v}' for k, v in master_dict.items()])\n",
    "\n",
    "    q_command = f\"\"\" curl -x \"{proxy_url}\" '{statsperform_base_url}/{feed_name}/{auth_key}/authorized?&{query_string}' \"\"\" if feed_name == 'tournamentcalendar' else \\\n",
    "        f\"\"\" curl -x \"{proxy_url}\" '{statsperform_base_url}/{feed_name}/{auth_key}?&{query_string}' \"\"\"\n",
    "\n",
    "    print(q_command)\n",
    "\n",
    "    process = subprocess.run(\n",
    "                q_command,\n",
    "                shell=True,\n",
    "                capture_output=True,\n",
    "                check=False # Set to True if you want a CalledProcessError for non-zero exit codes\n",
    "            )\n",
    "\n",
    "    stdout = process.stdout\n",
    "    json_output = json.loads(stdout)\n",
    "    return json_output\n"
   ]
  },
  {
   "cell_type": "markdown",
   "id": "2ba30d6b",
   "metadata": {},
   "source": [
    "## tournaments"
   ]
  },
  {
   "cell_type": "code",
   "execution_count": null,
   "id": "2049e914",
   "metadata": {},
   "outputs": [],
   "source": [
    "# Get all available tournament calendar IDs with OT2 feed\n",
    "feed = 'tournamentcalendar'\n",
    "comps = _access_statsperform_api(feed)\n",
    "competitions = pd.DataFrame(comps['competition'])\n",
    "\n",
    "# competition id for the premier league\n",
    "comp_id = \"2kwbbcootiqqgmrzs6o5inle5\"\n",
    "prem_calendars = pd.DataFrame(competitions[competitions['id'] == comp_id].tournamentCalendar.iloc[0])\n",
    "\n",
    "# tournament calendar id for the 24/25 premier league season\n",
    "tourney_cal_id = prem_calendars.id.iloc[1]"
   ]
  },
  {
   "cell_type": "markdown",
   "id": "296971d8",
   "metadata": {},
   "source": [
    "## matches"
   ]
  },
  {
   "cell_type": "code",
   "execution_count": null,
   "id": "254af8aa",
   "metadata": {},
   "outputs": [],
   "source": [
    "# Get all matches with MA1 feed\n",
    "def _get_all_matches_in_tourneycal(tourney_cal_id: str):\n",
    "\n",
    "    all_matches = _access_statsperform_api(feed_name='match',\n",
    "                         tourney_cal_id=tourney_cal_id)\n",
    "\n",
    "    return pd.DataFrame([x['matchInfo'] for x in all_matches['match']])"
   ]
  },
  {
   "cell_type": "markdown",
   "id": "a0cf3f14",
   "metadata": {},
   "source": [
    "## process data"
   ]
  },
  {
   "cell_type": "code",
   "execution_count": null,
   "id": "4caba185",
   "metadata": {},
   "outputs": [],
   "source": [
    "matches = _get_all_matches_in_tourneycal(tourney_cal_id)\n",
    "\n",
    "match_id = matches.id.iloc[200]"
   ]
  },
  {
   "cell_type": "code",
   "execution_count": null,
   "id": "6646ebce",
   "metadata": {},
   "outputs": [],
   "source": [
    "# getting access to player data using MA2 feed\n",
    "example_match_request = _access_statsperform_api(feed_name='matchstats',\n",
    "                         match_id=match_id)"
   ]
  },
  {
   "cell_type": "code",
   "execution_count": null,
   "id": "28a75fec",
   "metadata": {},
   "outputs": [],
   "source": [
    "pd.set_option('display.max_rows', 1000)\n",
    "pd.set_option('display.max_columns', 1000)\n",
    "\n",
    "def _aggregate_team_data(match_stats):\n",
    "\n",
    "    # collect tournament calendar, competition and team information\n",
    "    tourney_cal_id, tourney_cal_season = example_match_request['matchInfo']['tournamentCalendar']['id'], \\\n",
    "        example_match_request['matchInfo']['tournamentCalendar']['name']\n",
    "    competition_id, competition_name = example_match_request['matchInfo']['competition']['id'], \\\n",
    "        example_match_request['matchInfo']['competition']['name']\n",
    "    \n",
    "    competitors = example_match_request['matchInfo']['contestant']\n",
    "    \n",
    "    # turn match data into dataframe\n",
    "    match_data = pd.DataFrame(example_match_request['liveData']['lineUp'])\n",
    "\n",
    "    match_list = []\n",
    "\n",
    "    for _, team in match_data.iterrows():\n",
    "        # turn statistics into numerics and get team object from competitor\n",
    "        team_stats = pd.DataFrame(team.stat)\n",
    "        team_stats['value'] = pd.to_numeric(team_stats.value)\n",
    "        competitor = competitors[0] if competitors[0]['id'] == team.contestantId else competitors[1]\n",
    "\n",
    "        # transpose statistics to make ts dataframe (team statistics)\n",
    "        ts = team_stats[['type', 'value']].set_index('type').T\n",
    "\n",
    "        # create dataframe for cs (config statistics)\n",
    "        cs = pd.DataFrame({\n",
    "            'competition_id': [competition_id],\n",
    "            'competition_name': [competition_name],\n",
    "            'tourney_cal_id': [tourney_cal_id],\n",
    "            'tourney_cal_name': [tourney_cal_season],\n",
    "            'match_id' : [str(match_id)],\n",
    "            'match_date': match_stats['matchInfo']['date'],\n",
    "            'team_id' : [str(competitor['id'])],\n",
    "            'team_name': [str(competitor['shortName'])],\n",
    "            'home' : True if competitor['position'] == 'home' else False,\n",
    "        })\n",
    "\n",
    "        team_row = pd.concat([cs.reset_index(drop=True), ts.reset_index(drop=True)], axis=1)\n",
    "        team_row['formationUsed'] = str(team.formationUsed)\n",
    "\n",
    "        match_list.append(team_row)\n",
    "\n",
    "    # return dataframe of len == 2 with rows representing both teams, sharing the same game_id\n",
    "    return pd.concat(match_list).fillna(0)"
   ]
  },
  {
   "cell_type": "code",
   "execution_count": null,
   "id": "8027c50e",
   "metadata": {},
   "outputs": [],
   "source": [
    "def _aggregate_player_data(match_request):\n",
    "    match_data = pd.DataFrame(match_request['liveData']['lineUp'])\n",
    "\n",
    "    subs = pd.DataFrame(match_request['liveData']['substitute']).set_index('playerOnId').to_dict('index')\n",
    "\n",
    "    list_of_dfs = []\n",
    "\n",
    "    for _, team in match_data.iterrows():\n",
    "        players = pd.DataFrame(team['player'])\n",
    "\n",
    "        # replace substitution position with boolean column\n",
    "        players['isSub'] = players.position.apply(lambda x: True if x == 'Substitute' else False)\n",
    "        cols_to_keep = ['playerId', 'matchName', 'position', 'positionSide', 'formationPlace', 'isSub']\n",
    "\n",
    "        # turn statistics json into pandas dataframe + make all numbers into floats\n",
    "        stats = players.stat.apply(lambda lisa: {x['type']:float(x['value']) for x in lisa})\n",
    "        players = pd.concat([players[cols_to_keep].reset_index(drop=True), pd.json_normalize(stats).reset_index(drop=True)], axis=1)\n",
    "\n",
    "        # remove all players from dataframe who didn't play\n",
    "        players = players[~players['minsPlayed'].isna()]\n",
    "\n",
    "        # checks all subs in players dataframe, replace values with subbed out player info\n",
    "        subbed_players = players[players['isSub'] == True]\n",
    "\n",
    "        # replace substitution position info with player who subbed out for substitute\n",
    "        for i, row in subbed_players.iterrows():\n",
    "            sub_info = subs[row.playerId]\n",
    "            subbed_out_player = players[players['playerId'] == sub_info['playerOffId']].iloc[0]\n",
    "\n",
    "            players.at[i, 'position'] =  subbed_out_player.position\n",
    "            players.at[i, 'positionSide'] =  subbed_out_player.positionSide\n",
    "            players.at[i, 'formationPlace'] =  subbed_out_player.formationPlace\n",
    "\n",
    "        # add config columns\n",
    "        players.insert(0, 'match_id', match_request['matchInfo']['id'])\n",
    "        players.insert(1, 'team_id', team.contestantId)\n",
    "        config_cols = ['match_id', 'team_id'] + cols_to_keep\n",
    "\n",
    "        # add all columns not found in player data to keep StatsPerform detailed player statistics schema \n",
    "        # (schema can be found in config.py)\n",
    "        stat_cols = players.drop(config_cols, axis=1).columns\n",
    "        missing_cols = set(config.all_player_match_stats).difference(stat_cols)\n",
    "\n",
    "        if missing_cols:\n",
    "            missing_df = pd.DataFrame(0, index=players.index, columns=list(missing_cols))\n",
    "            players = pd.concat([players, missing_df], axis=1)\n",
    "\n",
    "        list_of_dfs.append(players[config_cols + config.all_player_match_stats])\n",
    "\n",
    "    # return dataframe of all players with their statistics\n",
    "    return pd.concat(list_of_dfs, axis=0, ignore_index=True).fillna(0)\n",
    "    "
   ]
  },
  {
   "cell_type": "code",
   "execution_count": null,
   "id": "e5188bcb",
   "metadata": {},
   "outputs": [],
   "source": [
    "x = _aggregate_player_data(example_match_request)"
   ]
  },
  {
   "cell_type": "code",
   "execution_count": null,
   "id": "8b63c9f7",
   "metadata": {},
   "outputs": [],
   "source": []
  }
 ],
 "metadata": {
  "kernelspec": {
   "display_name": "Python 3",
   "language": "python",
   "name": "python3"
  },
  "language_info": {
   "codemirror_mode": {
    "name": "ipython",
    "version": 3
   },
   "file_extension": ".py",
   "mimetype": "text/x-python",
   "name": "python",
   "nbconvert_exporter": "python",
   "pygments_lexer": "ipython3",
   "version": "3.9.6"
  }
 },
 "nbformat": 4,
 "nbformat_minor": 5
}

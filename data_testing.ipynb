{
 "cells": [
  {
   "cell_type": "code",
   "execution_count": null,
   "id": "c47f1233",
   "metadata": {},
   "outputs": [],
   "source": [
    "import subprocess\n",
    "import json\n",
    "import pandas as pd\n",
    "import os\n",
    "\n",
    "offered_feeds = pd.read_csv('statsperform_feeds.csv')\n",
    "\n",
    "{\n",
    "    k:v for k, v in zip(offered_feeds.FeedCode, offered_feeds.FeedWidgetName)\n",
    "}"
   ]
  },
  {
   "cell_type": "code",
   "execution_count": null,
   "id": "19de6027",
   "metadata": {},
   "outputs": [],
   "source": [
    "def _access_statsperform_api(feed_name: str,\n",
    "                             tourney_cal_id: str = None,\n",
    "                             match_id: str = None\n",
    "                             ):\n",
    "\n",
    "    proxy_url = \"http://127.0.0.1:3128\"\n",
    "    statsperform_base_url = 'https://api.performfeeds.com/soccerdata'\n",
    "    auth_key = str(os.environ['STATSPERFORM_API_KEY'])\n",
    "\n",
    "    master_dict = {\n",
    "        '_rt':'b',\n",
    "        '_fmt':'json'\n",
    "    }\n",
    "\n",
    "    if feed_name == 'match':\n",
    "        assert tourney_cal_id is not None, \"To access match feed data, a tournament calendar ID must be passed in.\"\n",
    "        master_dict['tmcl'] = tourney_cal_id\n",
    "        master_dict['_pgSz'] = 1000\n",
    "    if feed_name == 'matchstats':\n",
    "        assert match_id is not None, \"To access match stats feed, a match ID must be passed in.\"\n",
    "        master_dict['fx'] = match_id\n",
    "        master_dict['detailed'] = 'yes'\n",
    "        master_dict['people'] = 'yes'\n",
    "\n",
    "    query_string = '&'.join([f'{k}={v}' for k, v in master_dict.items()])\n",
    "\n",
    "    q_command = f\"\"\" curl -x \"{proxy_url}\" '{statsperform_base_url}/{feed_name}/{auth_key}/authorized?&{query_string}' \"\"\" if feed_name == 'tournamentcalendar' else \\\n",
    "        f\"\"\" curl -x \"{proxy_url}\" '{statsperform_base_url}/{feed_name}/{auth_key}?&{query_string}' \"\"\"\n",
    "\n",
    "    print(q_command)\n",
    "\n",
    "    process = subprocess.run(\n",
    "                q_command,\n",
    "                shell=True,\n",
    "                capture_output=True,\n",
    "                check=False # Set to True if you want a CalledProcessError for non-zero exit codes\n",
    "            )\n",
    "\n",
    "    stdout = process.stdout\n",
    "    json_output = json.loads(stdout)\n",
    "    return json_output\n"
   ]
  },
  {
   "cell_type": "markdown",
   "id": "2ba30d6b",
   "metadata": {},
   "source": [
    "## tournaments"
   ]
  },
  {
   "cell_type": "code",
   "execution_count": null,
   "id": "2049e914",
   "metadata": {},
   "outputs": [],
   "source": [
    "# Get all available tournament calendar IDs with OT2 feed\n",
    "feed = 'tournamentcalendar'\n",
    "comps = _access_statsperform_api(feed)\n",
    "competitions = pd.DataFrame(comps['competition'])\n",
    "# competitions"
   ]
  },
  {
   "cell_type": "code",
   "execution_count": null,
   "id": "1619f9e9",
   "metadata": {},
   "outputs": [],
   "source": [
    "# competition id for the premier league\n",
    "comp_id = \"2kwbbcootiqqgmrzs6o5inle5\"\n",
    "pd.DataFrame(competitions[competitions['id'] == comp_id].tournamentCalendar.iloc[0])"
   ]
  },
  {
   "cell_type": "code",
   "execution_count": null,
   "id": "8da48380",
   "metadata": {},
   "outputs": [],
   "source": [
    "# tournament calendar id for the 24/25 premier league season\n",
    "tourney_cal_id = \"9n12waklv005j8r32sfjj2eqc\""
   ]
  },
  {
   "cell_type": "markdown",
   "id": "296971d8",
   "metadata": {},
   "source": [
    "## matches"
   ]
  },
  {
   "cell_type": "code",
   "execution_count": null,
   "id": "254af8aa",
   "metadata": {},
   "outputs": [],
   "source": [
    "# Get all matches with MA1 feed\n",
    "\n",
    "french_matches = _access_statsperform_api(feed_name='match',\n",
    "                         tourney_cal_id=tourney_cal_id)\n",
    "\n",
    "all_matches = pd.DataFrame([x['matchInfo'] for x in french_matches['match']])\n",
    "all_matches"
   ]
  },
  {
   "cell_type": "code",
   "execution_count": null,
   "id": "6646ebce",
   "metadata": {},
   "outputs": [],
   "source": [
    "# getting access to player data using MA2 feed\n",
    "\n",
    "example_match = '7rd4o9m0otkg7u58cqplq19uc'\n",
    "\n",
    "example_match_request = _access_statsperform_api(feed_name='matchstats',\n",
    "                         query_paramo={'_rt':'b',\n",
    "                          '_fmt':'json',\n",
    "                          'fx': example_match,\n",
    "                          # '_pgSz':1000,\n",
    "                          'detailed':'yes',\n",
    "                          'people':'yes'})\n",
    "\n",
    "match_data = pd.DataFrame(example_match_request['liveData']['lineUp'])\n",
    "\n",
    "dembele = pd.DataFrame(match_data.iloc[1].player).iloc[13]\n",
    "\n",
    "pd.Series({x['type']:x['value'] for x in dembele.stat})"
   ]
  }
 ],
 "metadata": {
  "kernelspec": {
   "display_name": "Python 3",
   "language": "python",
   "name": "python3"
  },
  "language_info": {
   "codemirror_mode": {
    "name": "ipython",
    "version": 3
   },
   "file_extension": ".py",
   "mimetype": "text/x-python",
   "name": "python",
   "nbconvert_exporter": "python",
   "pygments_lexer": "ipython3",
   "version": "3.9.6"
  }
 },
 "nbformat": 4,
 "nbformat_minor": 5
}
